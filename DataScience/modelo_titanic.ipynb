{
 "cells": [
  {
   "cell_type": "markdown",
   "id": "higher-patient",
   "metadata": {},
   "source": [
    "# Pacotes Necessários"
   ]
  },
  {
   "cell_type": "code",
   "execution_count": null,
   "id": "severe-syntax",
   "metadata": {},
   "outputs": [],
   "source": [
    "import pandas as pd\n",
    "import numpy as np\n",
    "\n",
    "from sklearn.ensemble import RandomForestClassifier\n",
    "from sklearn.model_selection import train_test_split"
   ]
  },
  {
   "cell_type": "markdown",
   "id": "democratic-inside",
   "metadata": {},
   "source": [
    "# Lendo o banco de dados"
   ]
  },
  {
   "cell_type": "code",
   "execution_count": null,
   "id": "honest-diagnosis",
   "metadata": {},
   "outputs": [],
   "source": [
    "dados = pd.read_csv('ds/train.csv')"
   ]
  },
  {
   "cell_type": "code",
   "execution_count": null,
   "id": "southeast-commercial",
   "metadata": {},
   "outputs": [],
   "source": [
    "dados.head()"
   ]
  },
  {
   "cell_type": "markdown",
   "id": "impressed-interval",
   "metadata": {},
   "source": [
    "## Eliminando colunas que não serão utilizadas"
   ]
  },
  {
   "cell_type": "code",
   "execution_count": null,
   "id": "freelance-preparation",
   "metadata": {},
   "outputs": [],
   "source": [
    "dados = dados.drop(['Name', 'Ticket', 'Cabin', 'Embarked'], axis = 1)"
   ]
  },
  {
   "cell_type": "code",
   "execution_count": null,
   "id": "polished-chuck",
   "metadata": {},
   "outputs": [],
   "source": [
    "dados.head()"
   ]
  },
  {
   "cell_type": "markdown",
   "id": "da131b36",
   "metadata": {},
   "source": [
    "# Editando Chave e Variável Resposta"
   ]
  },
  {
   "cell_type": "code",
   "execution_count": null,
   "id": "1646a312",
   "metadata": {},
   "outputs": [],
   "source": [
    "dados = dados.set_index(['PassengerId'])\n",
    "dados = dados.rename(columns = {'Survived':'target'}, inplace=False)"
   ]
  },
  {
   "cell_type": "code",
   "execution_count": null,
   "id": "ae81255e",
   "metadata": {},
   "outputs": [],
   "source": [
    "dados.head()"
   ]
  },
  {
   "cell_type": "markdown",
   "id": "contained-buffalo",
   "metadata": {},
   "source": [
    "# Descritiva"
   ]
  },
  {
   "cell_type": "code",
   "execution_count": null,
   "id": "aging-report",
   "metadata": {},
   "outputs": [],
   "source": [
    "dados.describe()"
   ]
  },
  {
   "cell_type": "markdown",
   "id": "cheap-degree",
   "metadata": {},
   "source": [
    "## podemos observar pela variável target que quase 40% (38,3838%) das pessoas sobreviveram (target = 1)"
   ]
  },
  {
   "cell_type": "code",
   "execution_count": null,
   "id": "aquatic-monaco",
   "metadata": {},
   "outputs": [],
   "source": [
    "dados.describe(include=['O'])"
   ]
  },
  {
   "cell_type": "markdown",
   "id": "royal-herald",
   "metadata": {},
   "source": [
    "## como o sexo, coluna \"Sex\" é uma variável categórica, ela não vem no describe, para isto precisamos passar o parâmetro O (letra O maiúscula), assim o método describe vai passar algumas informações sobre ela"
   ]
  },
  {
   "cell_type": "markdown",
   "id": "played-investigation",
   "metadata": {},
   "source": [
    "# Transformação dos dados\n",
    "\n",
    "A maioria dos algorítmos não aceitam variáveis categóricas para isto tranformamos a coluna Sex em 0 e 1. Também transformamos as classes apenas para identificá-las. Há maneiras bem melhores de fazer isto!!!!"
   ]
  },
  {
   "cell_type": "code",
   "execution_count": null,
   "id": "owned-message",
   "metadata": {},
   "outputs": [],
   "source": [
    "dados['Sex_F'] = np.where(dados['Sex'] == 'female', 1, 0)\n",
    "\n",
    "dados['Pclass_1'] = np.where(dados['Pclass'] == 1, 1, 0)\n",
    "dados['Pclass_2'] = np.where(dados['Pclass'] == 2, 1, 0)\n",
    "dados['Pclass_3'] = np.where(dados['Pclass'] == 3, 1, 0)"
   ]
  },
  {
   "cell_type": "code",
   "execution_count": null,
   "id": "worldwide-secretary",
   "metadata": {},
   "outputs": [],
   "source": [
    "dados = dados.drop(['Pclass', 'Sex'], axis = 1)"
   ]
  },
  {
   "cell_type": "code",
   "execution_count": null,
   "id": "popular-anxiety",
   "metadata": {},
   "outputs": [],
   "source": [
    "dados.head()"
   ]
  },
  {
   "cell_type": "code",
   "execution_count": null,
   "id": "three-miniature",
   "metadata": {},
   "outputs": [],
   "source": [
    "dados.isnull().sum()"
   ]
  },
  {
   "cell_type": "markdown",
   "id": "third-glossary",
   "metadata": {},
   "source": [
    "## No caso da idade vamos apenas como exemplo substituir nulos por zero"
   ]
  },
  {
   "cell_type": "code",
   "execution_count": null,
   "id": "deluxe-brush",
   "metadata": {},
   "outputs": [],
   "source": [
    "dados.fillna(0, inplace = True)"
   ]
  },
  {
   "cell_type": "code",
   "execution_count": null,
   "id": "searching-manufacturer",
   "metadata": {},
   "outputs": [],
   "source": [
    "dados.isnull().sum()"
   ]
  },
  {
   "cell_type": "markdown",
   "id": "sealed-absolute",
   "metadata": {},
   "source": [
    "# Amostragem"
   ]
  },
  {
   "cell_type": "code",
   "execution_count": null,
   "id": "controversial-dispute",
   "metadata": {},
   "outputs": [],
   "source": [
    "x_train, x_test, y_train, y_test = train_test_split(dados.drop(['target'], axis = 1), \n",
    "                                                    dados['target'], \n",
    "                                                    test_size=0.3, \n",
    "                                                    random_state=1234)\n",
    "[{'treino': x_train.shape}, \n",
    " {'teste': x_test.shape}]"
   ]
  },
  {
   "cell_type": "markdown",
   "id": "1159f65e",
   "metadata": {},
   "source": [
    "# Modelo"
   ]
  },
  {
   "cell_type": "markdown",
   "id": "cd6ffb63",
   "metadata": {},
   "source": [
    "# Random Forest"
   ]
  },
  {
   "cell_type": "code",
   "execution_count": null,
   "id": "92ed67bb",
   "metadata": {},
   "outputs": [],
   "source": [
    "rndforest = RandomForestClassifier(n_estimators=1000, criterion='gini', max_depth=5)\n",
    "rndforest.fit(x_train, y_train)"
   ]
  },
  {
   "cell_type": "code",
   "execution_count": null,
   "id": "824d499e",
   "metadata": {},
   "outputs": [],
   "source": [
    "probabilidade = rndforest.predict_proba(dados.drop('target', axis=1))[:,1]\n",
    "classificacao = rndforest.predict(dados.drop('target', axis=1))"
   ]
  },
  {
   "cell_type": "code",
   "execution_count": null,
   "id": "302d85eb",
   "metadata": {},
   "outputs": [],
   "source": [
    "dados['probabilidade'] = probabilidade\n",
    "dados['classificacao'] = classificacao"
   ]
  },
  {
   "cell_type": "code",
   "execution_count": null,
   "id": "c8b017e1",
   "metadata": {},
   "outputs": [],
   "source": [
    "dados"
   ]
  },
  {
   "cell_type": "code",
   "execution_count": null,
   "id": "6c05c6b3",
   "metadata": {},
   "outputs": [],
   "source": []
  }
 ],
 "metadata": {
  "kernelspec": {
   "display_name": "Python 3",
   "language": "python",
   "name": "python3"
  },
  "language_info": {
   "codemirror_mode": {
    "name": "ipython",
    "version": 3
   },
   "file_extension": ".py",
   "mimetype": "text/x-python",
   "name": "python",
   "nbconvert_exporter": "python",
   "pygments_lexer": "ipython3",
   "version": "3.8.10"
  }
 },
 "nbformat": 4,
 "nbformat_minor": 5
}
